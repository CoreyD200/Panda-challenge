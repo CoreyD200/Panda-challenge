{
 "cells": [
  {
   "cell_type": "markdown",
   "metadata": {},
   "source": [
    "### Note\n",
    "* Instructions have been included for each segment. You do not have to follow them exactly, but they are included to help you think through the steps."
   ]
  },
  {
   "cell_type": "code",
   "execution_count": 468,
   "metadata": {},
   "outputs": [],
   "source": [
    "# Dependencies and Setup\n",
    "import pandas as pd\n",
    "import matplotlib.pyplot as plt\n",
    "import numpy as np\n",
    "\n",
    "# File to Load (Remember to Change These)\n",
    "file_to_load = \"Resources/purchase_data.csv\"\n",
    "\n",
    "# Read Purchasing File and store into Pandas data frame\n",
    "purchase_data = pd.read_csv(file_to_load)\n",
    "\n",
    "#create data Frame\n",
    "\n",
    "purchases_df = pd.DataFrame(purchase_data)"
   ]
  },
  {
   "cell_type": "markdown",
   "metadata": {},
   "source": [
    "## Player Count"
   ]
  },
  {
   "cell_type": "markdown",
   "metadata": {},
   "source": [
    "* Display the total number of players\n"
   ]
  },
  {
   "cell_type": "code",
   "execution_count": 469,
   "metadata": {},
   "outputs": [
    {
     "name": "stdout",
     "output_type": "stream",
     "text": [
      "There are 576 total players\n"
     ]
    }
   ],
   "source": [
    "total_players = purchase_data['SN'].nunique()\n",
    "print(\"There are \" + str(total_players) + \" total players\")"
   ]
  },
  {
   "cell_type": "code",
   "execution_count": 470,
   "metadata": {},
   "outputs": [
    {
     "data": {
      "text/plain": [
       "Index(['Purchase ID', 'SN', 'Age', 'Gender', 'Item ID', 'Item Name', 'Price'], dtype='object')"
      ]
     },
     "execution_count": 470,
     "metadata": {},
     "output_type": "execute_result"
    }
   ],
   "source": [
    "# Get all column headers for future reference\n",
    "purchase_data.columns"
   ]
  },
  {
   "cell_type": "markdown",
   "metadata": {},
   "source": [
    "## Purchasing Analysis (Total)"
   ]
  },
  {
   "cell_type": "markdown",
   "metadata": {},
   "source": [
    "* Run basic calculations to obtain number of unique items, average price, etc.\n",
    "\n",
    "\n",
    "* Create a summary data frame to hold the results\n",
    "\n",
    "\n",
    "* Optional: give the displayed data cleaner formatting\n",
    "\n",
    "\n",
    "* Display the summary data frame\n"
   ]
  },
  {
   "cell_type": "code",
   "execution_count": 471,
   "metadata": {},
   "outputs": [],
   "source": [
    "#create table with only the columns we want (Unique items, average price, puchases, revenue)\n",
    "df_purchase_a = purchase_data[['Item ID', 'Price', 'Purchase ID']]\n"
   ]
  },
  {
   "cell_type": "code",
   "execution_count": 472,
   "metadata": {},
   "outputs": [
    {
     "data": {
      "text/html": [
       "<div>\n",
       "<style scoped>\n",
       "    .dataframe tbody tr th:only-of-type {\n",
       "        vertical-align: middle;\n",
       "    }\n",
       "\n",
       "    .dataframe tbody tr th {\n",
       "        vertical-align: top;\n",
       "    }\n",
       "\n",
       "    .dataframe thead th {\n",
       "        text-align: right;\n",
       "    }\n",
       "</style>\n",
       "<table border=\"1\" class=\"dataframe\">\n",
       "  <thead>\n",
       "    <tr style=\"text-align: right;\">\n",
       "      <th></th>\n",
       "      <th>Number of Unique Items</th>\n",
       "      <th>Average Price</th>\n",
       "      <th>Number of Purchases</th>\n",
       "      <th>Total Revenue</th>\n",
       "    </tr>\n",
       "  </thead>\n",
       "  <tbody>\n",
       "    <tr>\n",
       "      <th>0</th>\n",
       "      <td>183</td>\n",
       "      <td>$3.05</td>\n",
       "      <td>780</td>\n",
       "      <td>$2,379.77</td>\n",
       "    </tr>\n",
       "  </tbody>\n",
       "</table>\n",
       "</div>"
      ],
      "text/plain": [
       "   Number of Unique Items Average Price  Number of Purchases Total Revenue\n",
       "0                     183         $3.05                  780     $2,379.77"
      ]
     },
     "execution_count": 472,
     "metadata": {},
     "output_type": "execute_result"
    }
   ],
   "source": [
    "# get number of unique items from the new DF (this could have been done from the original df)\n",
    "Number_of_Unique_Items = df_purchase_a['Item ID'].nunique()\n",
    "\n",
    "# get desired values \n",
    "Average_Price = df_purchase_a['Price'].mean()\n",
    "Number_of_Purchases = df_purchase_a['Purchase ID'].count()\n",
    "Total_Revenue = df_purchase_a['Price'].sum()\n",
    "\n",
    "#add new items to a variable so they can be put in to a new dF\n",
    "data = {\"Number of Unique Items\": [Number_of_Unique_Items], \"Average Price\" : [Average_Price], 'Number of Purchases': [Number_of_Purchases], \"Total Revenue\" : [Total_Revenue]}\n",
    "\n",
    "df_purchase_summary = pd.DataFrame (data, columns =[\"Number of Unique Items\",\"Average Price\",'Number of Purchases',\"Total Revenue\"])\n",
    "\n",
    "#set the proper formatting for all fields\n",
    "df_purchase_summary[\"Average Price\"] = df_purchase_summary[\"Average Price\"].map(\"${:.2f}\".format)\n",
    "df_purchase_summary[\"Total Revenue\"] = df_purchase_summary[\"Total Revenue\"].map(\"${:,.2f}\".format)\n",
    "\n",
    "#output the requested data\n",
    "df_purchase_summary.head()"
   ]
  },
  {
   "cell_type": "markdown",
   "metadata": {},
   "source": [
    "## Gender Demographics"
   ]
  },
  {
   "cell_type": "markdown",
   "metadata": {},
   "source": [
    "* Percentage and Count of Male Players\n",
    "\n",
    "\n",
    "* Percentage and Count of Female Players\n",
    "\n",
    "\n",
    "* Percentage and Count of Other / Non-Disclosed\n",
    "\n",
    "\n"
   ]
  },
  {
   "cell_type": "code",
   "execution_count": 473,
   "metadata": {},
   "outputs": [
    {
     "data": {
      "text/html": [
       "<div>\n",
       "<style scoped>\n",
       "    .dataframe tbody tr th:only-of-type {\n",
       "        vertical-align: middle;\n",
       "    }\n",
       "\n",
       "    .dataframe tbody tr th {\n",
       "        vertical-align: top;\n",
       "    }\n",
       "\n",
       "    .dataframe thead th {\n",
       "        text-align: right;\n",
       "    }\n",
       "</style>\n",
       "<table border=\"1\" class=\"dataframe\">\n",
       "  <thead>\n",
       "    <tr style=\"text-align: right;\">\n",
       "      <th></th>\n",
       "      <th>Percentage</th>\n",
       "      <th>Players</th>\n",
       "    </tr>\n",
       "    <tr>\n",
       "      <th>Gender</th>\n",
       "      <th></th>\n",
       "      <th></th>\n",
       "    </tr>\n",
       "  </thead>\n",
       "  <tbody>\n",
       "    <tr>\n",
       "      <th>Male</th>\n",
       "      <td>84.03%</td>\n",
       "      <td>484</td>\n",
       "    </tr>\n",
       "    <tr>\n",
       "      <th>Female</th>\n",
       "      <td>14.06%</td>\n",
       "      <td>81</td>\n",
       "    </tr>\n",
       "    <tr>\n",
       "      <th>Other / Non-Disclosed</th>\n",
       "      <td>1.91%</td>\n",
       "      <td>11</td>\n",
       "    </tr>\n",
       "  </tbody>\n",
       "</table>\n",
       "</div>"
      ],
      "text/plain": [
       "                      Percentage  Players\n",
       "Gender                                   \n",
       "Male                      84.03%      484\n",
       "Female                    14.06%       81\n",
       "Other / Non-Disclosed      1.91%       11"
      ]
     },
     "execution_count": 473,
     "metadata": {},
     "output_type": "execute_result"
    }
   ],
   "source": [
    "#get counts of all player types\n",
    "Gender = purchase_data.loc[:,('Gender',\"SN\")]\n",
    "Gendergroup = Gender.groupby(\"Gender\")['SN'].nunique()\n",
    "#move info in to a DataFrame\n",
    "GenderGroupDF = pd.DataFrame(Gendergroup)\n",
    "#rename SN column to Count of Players\n",
    "GenderGroupDF = GenderGroupDF.rename(columns={\"SN\":\"Players\"})\n",
    "counts = GenderGroupDF.loc[:, \"Players\"]\n",
    "percentages = counts/total_players\n",
    "GenderSummary = {'Players': (counts), 'Percentage': (percentages)}\n",
    "\n",
    "GenderCountsDF = pd.DataFrame(GenderSummary)\n",
    "GenderCounts_sorted = GenderCountsDF.sort_values(\"Players\", ascending = False)\n",
    "\n",
    "GenderCounts_sorted[\"Percentage\"] = GenderCounts_sorted[\"Percentage\"].map(\"{:.2%}\".format)\n",
    "GenderCounts_sorted\n"
   ]
  },
  {
   "cell_type": "code",
   "execution_count": 474,
   "metadata": {},
   "outputs": [],
   "source": [
    "labels = [\"Female\", \"Male\", \"Other\"]\n",
    "sizes = [81,484,11]\n",
    "colors = [\"pink\", \"Blue\", \"Yellow\"]\n",
    "explode = (0,0, 0.2)\n"
   ]
  },
  {
   "cell_type": "code",
   "execution_count": 475,
   "metadata": {
    "scrolled": true
   },
   "outputs": [
    {
     "data": {
      "text/plain": [
       "(-1.1030575773000242,\n",
       " 1.1062576174983942,\n",
       " -1.1145678372829018,\n",
       " 1.3098405431973446)"
      ]
     },
     "execution_count": 475,
     "metadata": {},
     "output_type": "execute_result"
    },
    {
     "data": {
      "image/png": "[encoded data removed]",
      "text/plain": [
       "<matplotlib.figure.Figure at 0x17f2a4e09b0>"
      ]
     },
     "metadata": {},
     "output_type": "display_data"
    }
   ],
   "source": [
    "plt.pie(sizes, explode=explode, labels=labels, colors=colors, autopct=\"%1.1f%%\",\n",
    "        shadow = False, startangle= 90)\n",
    "plt.axis('equal')"
   ]
  },
  {
   "cell_type": "markdown",
   "metadata": {},
   "source": [
    "\n",
    "## Purchasing Analysis (Gender)"
   ]
  },
  {
   "cell_type": "markdown",
   "metadata": {},
   "source": [
    "* Run basic calculations to obtain purchase count, avg. purchase price, avg. purchase total per person etc. by gender\n",
    "\n",
    "\n",
    "\n",
    "\n",
    "* Create a summary data frame to hold the results\n",
    "\n",
    "\n",
    "* Optional: give the displayed data cleaner formatting\n",
    "\n",
    "\n",
    "* Display the summary data frame"
   ]
  },
  {
   "cell_type": "code",
   "execution_count": 476,
   "metadata": {},
   "outputs": [
    {
     "name": "stdout",
     "output_type": "stream",
     "text": [
      "<pandas.core.groupby.DataFrameGroupBy object at 0x0000017F2A2259E8>\n"
     ]
    }
   ],
   "source": [
    "GroupedCounts = purchases_df.groupby(['Gender'])\n",
    "print(purchaseCounts)\n"
   ]
  },
  {
   "cell_type": "code",
   "execution_count": 477,
   "metadata": {},
   "outputs": [
    {
     "data": {
      "text/html": [
       "<div>\n",
       "<style scoped>\n",
       "    .dataframe tbody tr th:only-of-type {\n",
       "        vertical-align: middle;\n",
       "    }\n",
       "\n",
       "    .dataframe tbody tr th {\n",
       "        vertical-align: top;\n",
       "    }\n",
       "\n",
       "    .dataframe thead th {\n",
       "        text-align: right;\n",
       "    }\n",
       "</style>\n",
       "<table border=\"1\" class=\"dataframe\">\n",
       "  <thead>\n",
       "    <tr style=\"text-align: right;\">\n",
       "      <th></th>\n",
       "      <th>Average Item Amt</th>\n",
       "      <th>Average Purchase</th>\n",
       "      <th>Items Purchased</th>\n",
       "      <th>Total Spent</th>\n",
       "    </tr>\n",
       "    <tr>\n",
       "      <th>Gender</th>\n",
       "      <th></th>\n",
       "      <th></th>\n",
       "      <th></th>\n",
       "      <th></th>\n",
       "    </tr>\n",
       "  </thead>\n",
       "  <tbody>\n",
       "    <tr>\n",
       "      <th>Female</th>\n",
       "      <td>$3.20</td>\n",
       "      <td>$4.47</td>\n",
       "      <td>113</td>\n",
       "      <td>$361.94</td>\n",
       "    </tr>\n",
       "    <tr>\n",
       "      <th>Male</th>\n",
       "      <td>$3.02</td>\n",
       "      <td>$4.07</td>\n",
       "      <td>652</td>\n",
       "      <td>$1,967.64</td>\n",
       "    </tr>\n",
       "    <tr>\n",
       "      <th>Other / Non-Disclosed</th>\n",
       "      <td>$3.35</td>\n",
       "      <td>$4.56</td>\n",
       "      <td>15</td>\n",
       "      <td>$50.19</td>\n",
       "    </tr>\n",
       "  </tbody>\n",
       "</table>\n",
       "</div>"
      ],
      "text/plain": [
       "                      Average Item Amt Average Purchase  Items Purchased  \\\n",
       "Gender                                                                     \n",
       "Female                           $3.20            $4.47              113   \n",
       "Male                             $3.02            $4.07              652   \n",
       "Other / Non-Disclosed            $3.35            $4.56               15   \n",
       "\n",
       "                      Total Spent  \n",
       "Gender                             \n",
       "Female                    $361.94  \n",
       "Male                    $1,967.64  \n",
       "Other / Non-Disclosed      $50.19  "
      ]
     },
     "execution_count": 477,
     "metadata": {},
     "output_type": "execute_result"
    }
   ],
   "source": [
    "#calculate the values requested\n",
    "\n",
    "totalSpentG=GroupedCounts['Price'].sum()\n",
    "totalSpentG\n",
    "totalItemsG=GroupedCounts['Purchase ID'].count()\n",
    "AvgSpent = totalSpentG/totalItemsG\n",
    "AvgPer= totalSpentG/counts\n",
    "\n",
    "#take values, put them in columns and create a DataFrame\n",
    "columns = {\"Average Purchase\": (AvgPer), \"Total Spent\": (totalSpentG), \"Items Purchased\" : (totalItemsG),\n",
    "           \"Average Item Amt\" : (AvgSpent)}\n",
    "Purch_Analysis = pd.DataFrame(columns)\n",
    "\n",
    "# Apply formatting\n",
    "Purch_Analysis[\"Average Item Amt\"] = Purch_Analysis[\"Average Item Amt\"].map(\"${:.2f}\".format)\n",
    "Purch_Analysis[\"Total Spent\"] = Purch_Analysis[\"Total Spent\"].map(\"${:,.2f}\".format)\n",
    "Purch_Analysis[\"Average Purchase\"] = Purch_Analysis[\"Average Purchase\"].map(\"${:,.2f}\".format)\n",
    "\n",
    "Purch_Analysis"
   ]
  },
  {
   "cell_type": "markdown",
   "metadata": {},
   "source": [
    "## Age Demographics"
   ]
  },
  {
   "cell_type": "markdown",
   "metadata": {},
   "source": [
    "* Establish bins for ages\n",
    "\n",
    "\n",
    "* Categorize the existing players using the age bins. Hint: use pd.cut()\n",
    "\n",
    "\n",
    "* Calculate the numbers and percentages by age group\n",
    "\n",
    "\n",
    "* Create a summary data frame to hold the results\n",
    "\n",
    "\n",
    "* Optional: round the percentage column to two decimal points\n",
    "\n",
    "\n",
    "* Display Age Demographics Table\n"
   ]
  },
  {
   "cell_type": "code",
   "execution_count": 478,
   "metadata": {},
   "outputs": [
    {
     "name": "stdout",
     "output_type": "stream",
     "text": [
      "7\n",
      "45\n"
     ]
    }
   ],
   "source": [
    "#get max and min of age to set the bins accordingly\n",
    "print (purchases_df['Age'].min())\n",
    "print (purchases_df['Age'].max())\n"
   ]
  },
  {
   "cell_type": "code",
   "execution_count": 479,
   "metadata": {},
   "outputs": [],
   "source": [
    "#define bins and groups and add the bins field to the DF\n",
    "bins = [5,10,15,20,25,30,40,50]\n",
    "ageGroups = [\"Under10\", \"10 - 14\", \"15 - 19\", \"20 - 24\", \"25 - 29\", \"30 - 39\", \"40 +\"]\n",
    "purchases_df['Age group']= pd.cut(purchases_df['Age'],bins, right=False, labels=ageGroups)\n"
   ]
  },
  {
   "cell_type": "code",
   "execution_count": 480,
   "metadata": {},
   "outputs": [
    {
     "data": {
      "text/html": [
       "<div>\n",
       "<style scoped>\n",
       "    .dataframe tbody tr th:only-of-type {\n",
       "        vertical-align: middle;\n",
       "    }\n",
       "\n",
       "    .dataframe tbody tr th {\n",
       "        vertical-align: top;\n",
       "    }\n",
       "\n",
       "    .dataframe thead th {\n",
       "        text-align: right;\n",
       "    }\n",
       "</style>\n",
       "<table border=\"1\" class=\"dataframe\">\n",
       "  <thead>\n",
       "    <tr style=\"text-align: right;\">\n",
       "      <th></th>\n",
       "      <th>Percentage</th>\n",
       "      <th>Players</th>\n",
       "    </tr>\n",
       "    <tr>\n",
       "      <th>Age group</th>\n",
       "      <th></th>\n",
       "      <th></th>\n",
       "    </tr>\n",
       "  </thead>\n",
       "  <tbody>\n",
       "    <tr>\n",
       "      <th>Under10</th>\n",
       "      <td>2.95%</td>\n",
       "      <td>17</td>\n",
       "    </tr>\n",
       "    <tr>\n",
       "      <th>10 - 14</th>\n",
       "      <td>3.82%</td>\n",
       "      <td>22</td>\n",
       "    </tr>\n",
       "    <tr>\n",
       "      <th>15 - 19</th>\n",
       "      <td>18.58%</td>\n",
       "      <td>107</td>\n",
       "    </tr>\n",
       "    <tr>\n",
       "      <th>20 - 24</th>\n",
       "      <td>44.79%</td>\n",
       "      <td>258</td>\n",
       "    </tr>\n",
       "    <tr>\n",
       "      <th>25 - 29</th>\n",
       "      <td>13.37%</td>\n",
       "      <td>77</td>\n",
       "    </tr>\n",
       "    <tr>\n",
       "      <th>30 - 39</th>\n",
       "      <td>14.41%</td>\n",
       "      <td>83</td>\n",
       "    </tr>\n",
       "    <tr>\n",
       "      <th>40 +</th>\n",
       "      <td>2.08%</td>\n",
       "      <td>12</td>\n",
       "    </tr>\n",
       "  </tbody>\n",
       "</table>\n",
       "</div>"
      ],
      "text/plain": [
       "          Percentage  Players\n",
       "Age group                    \n",
       "Under10        2.95%       17\n",
       "10 - 14        3.82%       22\n",
       "15 - 19       18.58%      107\n",
       "20 - 24       44.79%      258\n",
       "25 - 29       13.37%       77\n",
       "30 - 39       14.41%       83\n",
       "40 +           2.08%       12"
      ]
     },
     "execution_count": 480,
     "metadata": {},
     "output_type": "execute_result"
    }
   ],
   "source": [
    "#Group by new bin groups that were created\n",
    "AgeCounts = purchases_df.groupby(['Age group'])\n",
    "\n",
    "#get counts of all player types\n",
    "AgeGroup = purchases_df.loc[:,('Age group',\"SN\")]\n",
    "Agegrouped = AgeGroup.groupby(\"Age group\")['SN'].nunique()\n",
    "#move info in to a DataFrame\n",
    "AgeGroupDF = pd.DataFrame(Agegrouped)\n",
    "\n",
    "#rename SN column to Count of Players\n",
    "AgeGroupDF = AgeGroupDF.rename(columns={\"SN\":\"Players\"})\n",
    "\n",
    "#assign variable to counts and percentages within the grouped DF\n",
    "counts = AgeGroupDF.loc[:, \"Players\"]\n",
    "percentages = counts/total_players\n",
    "\n",
    "#create new DF with variables\n",
    "AgeCountsDF = pd.DataFrame({'Players': (counts), 'Percentage': (percentages)})\n",
    "\n",
    "#format Percentages to disply properly\n",
    "AgeCountsDF[\"Percentage\"] = AgeCountsDF[\"Percentage\"].map(\"{:.2%}\".format)\n",
    "AgeCountsDF\n"
   ]
  },
  {
   "cell_type": "code",
   "execution_count": 488,
   "metadata": {
    "scrolled": true
   },
   "outputs": [
    {
     "data": {
      "text/plain": [
       "Text(0,0.5,'Number of Players')"
      ]
     },
     "execution_count": 488,
     "metadata": {},
     "output_type": "execute_result"
    },
    {
     "data": {
      "image/png": "[encoded data removed]",
      "text/plain": [
       "<matplotlib.figure.Figure at 0x17f2a3d0a58>"
      ]
     },
     "metadata": {},
     "output_type": "display_data"
    }
   ],
   "source": [
    "players = [17,22,107,258,77,83,12]\n",
    "x_axis = np.arange(len(players))\n",
    "plt.bar(x_axis, players, color=\"b\",alpha=0.5 ,align=\"center\")\n",
    "tick_locations = [value for value in x_axis]\n",
    "plt.xticks(tick_locations,[\"Under10\", \"10 - 14\", \"15 - 19\", \"20 - 24\", \"25 - 29\", \"30 - 39\", \"40 +\"])\n",
    "plt.title(\"Who is playing HeroesofPymoli\")\n",
    "plt.xlabel(\"Age Groups\")\n",
    "plt.ylabel(\"Number of Players\")"
   ]
  },
  {
   "cell_type": "markdown",
   "metadata": {},
   "source": [
    "## Purchasing Analysis (Age)"
   ]
  },
  {
   "cell_type": "markdown",
   "metadata": {},
   "source": [
    "* Bin the purchase_data data frame by age\n",
    "\n",
    "\n",
    "* Run basic calculations to obtain purchase count, avg. purchase price, avg. purchase total per person etc. in the table below\n",
    "\n",
    "\n",
    "* Create a summary data frame to hold the results\n",
    "\n",
    "\n",
    "* Optional: give the displayed data cleaner formatting\n",
    "\n",
    "\n",
    "* Display the summary data frame"
   ]
  },
  {
   "cell_type": "code",
   "execution_count": 483,
   "metadata": {},
   "outputs": [
    {
     "data": {
      "text/html": [
       "<div>\n",
       "<style scoped>\n",
       "    .dataframe tbody tr th:only-of-type {\n",
       "        vertical-align: middle;\n",
       "    }\n",
       "\n",
       "    .dataframe tbody tr th {\n",
       "        vertical-align: top;\n",
       "    }\n",
       "\n",
       "    .dataframe thead th {\n",
       "        text-align: right;\n",
       "    }\n",
       "</style>\n",
       "<table border=\"1\" class=\"dataframe\">\n",
       "  <thead>\n",
       "    <tr style=\"text-align: right;\">\n",
       "      <th></th>\n",
       "      <th>Average Item Amt</th>\n",
       "      <th>Average Purchase</th>\n",
       "      <th>Items Purchased</th>\n",
       "    </tr>\n",
       "    <tr>\n",
       "      <th>Age group</th>\n",
       "      <th></th>\n",
       "      <th></th>\n",
       "      <th></th>\n",
       "    </tr>\n",
       "  </thead>\n",
       "  <tbody>\n",
       "    <tr>\n",
       "      <th>Under10</th>\n",
       "      <td>$3.35</td>\n",
       "      <td>$4.54</td>\n",
       "      <td>23</td>\n",
       "    </tr>\n",
       "    <tr>\n",
       "      <th>10 - 14</th>\n",
       "      <td>$2.96</td>\n",
       "      <td>$3.76</td>\n",
       "      <td>28</td>\n",
       "    </tr>\n",
       "    <tr>\n",
       "      <th>15 - 19</th>\n",
       "      <td>$3.04</td>\n",
       "      <td>$3.86</td>\n",
       "      <td>136</td>\n",
       "    </tr>\n",
       "    <tr>\n",
       "      <th>20 - 24</th>\n",
       "      <td>$3.05</td>\n",
       "      <td>$4.32</td>\n",
       "      <td>365</td>\n",
       "    </tr>\n",
       "    <tr>\n",
       "      <th>25 - 29</th>\n",
       "      <td>$2.90</td>\n",
       "      <td>$3.81</td>\n",
       "      <td>101</td>\n",
       "    </tr>\n",
       "    <tr>\n",
       "      <th>30 - 39</th>\n",
       "      <td>$3.17</td>\n",
       "      <td>$4.36</td>\n",
       "      <td>114</td>\n",
       "    </tr>\n",
       "    <tr>\n",
       "      <th>40 +</th>\n",
       "      <td>$2.94</td>\n",
       "      <td>$3.19</td>\n",
       "      <td>13</td>\n",
       "    </tr>\n",
       "  </tbody>\n",
       "</table>\n",
       "</div>"
      ],
      "text/plain": [
       "          Average Item Amt Average Purchase  Items Purchased\n",
       "Age group                                                   \n",
       "Under10              $3.35            $4.54               23\n",
       "10 - 14              $2.96            $3.76               28\n",
       "15 - 19              $3.04            $3.86              136\n",
       "20 - 24              $3.05            $4.32              365\n",
       "25 - 29              $2.90            $3.81              101\n",
       "30 - 39              $3.17            $4.36              114\n",
       "40 +                 $2.94            $3.19               13"
      ]
     },
     "execution_count": 483,
     "metadata": {},
     "output_type": "execute_result"
    }
   ],
   "source": [
    "#group data from purchases_df by Age\n",
    "AgeCounts = purchases_df.groupby(['Age group'])\n",
    "\n",
    "#define variables\n",
    "totalSpentG=AgeCounts['Price'].sum()\n",
    "totalItemsG=AgeCounts['Purchase ID'].count()\n",
    "AvgSpent = totalSpentG/totalItemsG\n",
    "AvgPer= totalSpentG/counts\n",
    "\n",
    "#create DF using variables\n",
    "AgePurch_Analysis = pd.DataFrame({\"Average Purchase\": (AvgPer), \"Items Purchased\" : (totalItemsG),\n",
    "           \"Average Item Amt\" : (AvgSpent)})\n",
    "\n",
    "# Apply formatting\n",
    "AgePurch_Analysis[\"Average Item Amt\"] = AgePurch_Analysis[\"Average Item Amt\"].map(\"${:.2f}\".format)\n",
    "AgePurch_Analysis[\"Average Purchase\"] = AgePurch_Analysis[\"Average Purchase\"].map(\"${:,.2f}\".format)\n",
    "\n",
    "AgePurch_Analysis"
   ]
  },
  {
   "cell_type": "markdown",
   "metadata": {},
   "source": [
    "## Top Spenders"
   ]
  },
  {
   "cell_type": "markdown",
   "metadata": {},
   "source": [
    "* Run basic calculations to obtain the results in the table below\n",
    "\n",
    "\n",
    "* Create a summary data frame to hold the results\n",
    "\n",
    "\n",
    "* Sort the total purchase value column in descending order\n",
    "\n",
    "\n",
    "* Optional: give the displayed data cleaner formatting\n",
    "\n",
    "\n",
    "* Display a preview of the summary data frame\n",
    "\n"
   ]
  },
  {
   "cell_type": "code",
   "execution_count": 484,
   "metadata": {},
   "outputs": [
    {
     "data": {
      "text/html": [
       "<div>\n",
       "<style scoped>\n",
       "    .dataframe tbody tr th:only-of-type {\n",
       "        vertical-align: middle;\n",
       "    }\n",
       "\n",
       "    .dataframe tbody tr th {\n",
       "        vertical-align: top;\n",
       "    }\n",
       "\n",
       "    .dataframe thead th {\n",
       "        text-align: right;\n",
       "    }\n",
       "</style>\n",
       "<table border=\"1\" class=\"dataframe\">\n",
       "  <thead>\n",
       "    <tr style=\"text-align: right;\">\n",
       "      <th></th>\n",
       "      <th>Average Purchase Price</th>\n",
       "      <th>Purchase Count</th>\n",
       "      <th>Total Purchase Count</th>\n",
       "    </tr>\n",
       "    <tr>\n",
       "      <th>SN</th>\n",
       "      <th></th>\n",
       "      <th></th>\n",
       "      <th></th>\n",
       "    </tr>\n",
       "  </thead>\n",
       "  <tbody>\n",
       "    <tr>\n",
       "      <th>Lisosia93</th>\n",
       "      <td>$3.79</td>\n",
       "      <td>5</td>\n",
       "      <td>$18.96</td>\n",
       "    </tr>\n",
       "    <tr>\n",
       "      <th>Idastidru52</th>\n",
       "      <td>$3.86</td>\n",
       "      <td>4</td>\n",
       "      <td>$15.45</td>\n",
       "    </tr>\n",
       "    <tr>\n",
       "      <th>Chamjask73</th>\n",
       "      <td>$4.61</td>\n",
       "      <td>3</td>\n",
       "      <td>$13.83</td>\n",
       "    </tr>\n",
       "    <tr>\n",
       "      <th>Iral74</th>\n",
       "      <td>$3.40</td>\n",
       "      <td>4</td>\n",
       "      <td>$13.62</td>\n",
       "    </tr>\n",
       "    <tr>\n",
       "      <th>Iskadarya95</th>\n",
       "      <td>$4.37</td>\n",
       "      <td>3</td>\n",
       "      <td>$13.10</td>\n",
       "    </tr>\n",
       "    <tr>\n",
       "      <th>Ilarin91</th>\n",
       "      <td>$4.23</td>\n",
       "      <td>3</td>\n",
       "      <td>$12.70</td>\n",
       "    </tr>\n",
       "    <tr>\n",
       "      <th>Ialallo29</th>\n",
       "      <td>$3.95</td>\n",
       "      <td>3</td>\n",
       "      <td>$11.84</td>\n",
       "    </tr>\n",
       "    <tr>\n",
       "      <th>Tyidaim51</th>\n",
       "      <td>$3.94</td>\n",
       "      <td>3</td>\n",
       "      <td>$11.83</td>\n",
       "    </tr>\n",
       "    <tr>\n",
       "      <th>Lassilsala30</th>\n",
       "      <td>$3.84</td>\n",
       "      <td>3</td>\n",
       "      <td>$11.51</td>\n",
       "    </tr>\n",
       "    <tr>\n",
       "      <th>Chadolyla44</th>\n",
       "      <td>$3.82</td>\n",
       "      <td>3</td>\n",
       "      <td>$11.46</td>\n",
       "    </tr>\n",
       "  </tbody>\n",
       "</table>\n",
       "</div>"
      ],
      "text/plain": [
       "             Average Purchase Price  Purchase Count Total Purchase Count\n",
       "SN                                                                      \n",
       "Lisosia93                     $3.79               5               $18.96\n",
       "Idastidru52                   $3.86               4               $15.45\n",
       "Chamjask73                    $4.61               3               $13.83\n",
       "Iral74                        $3.40               4               $13.62\n",
       "Iskadarya95                   $4.37               3               $13.10\n",
       "Ilarin91                      $4.23               3               $12.70\n",
       "Ialallo29                     $3.95               3               $11.84\n",
       "Tyidaim51                     $3.94               3               $11.83\n",
       "Lassilsala30                  $3.84               3               $11.51\n",
       "Chadolyla44                   $3.82               3               $11.46"
      ]
     },
     "execution_count": 484,
     "metadata": {},
     "output_type": "execute_result"
    }
   ],
   "source": [
    "#Groupby SN and define variables\n",
    "purchase_count=purchase_data.groupby(\"SN\").count()[\"Price\"]\n",
    "avg_purch_pr=purchase_data.groupby(\"SN\").mean()[\"Price\"]\n",
    "total=purchase_data.groupby(\"SN\").sum()[\"Price\"]\n",
    "\n",
    "#create new DF with Variables\n",
    "summary_table=pd.DataFrame({\"Purchase Count\":purchase_count,\n",
    "                           \"Average Purchase Price\": avg_purch_pr,\n",
    "                           \"Total Purchase Count\": total})\n",
    "\n",
    "#create new summary table to sort with Top Spender at the top of the list\n",
    "summary_table_sorted=summary_table.sort_values(\"Total Purchase Count\",ascending=False)\n",
    "\n",
    "#apply formatting and disply data\n",
    "summary_table_sorted[\"Average Purchase Price\"]=summary_table_sorted[\"Average Purchase Price\"].map(\"${:,.2f}\".format)\n",
    "summary_table_sorted[\"Total Purchase Count\"]=summary_table_sorted[\"Total Purchase Count\"].map(\"${:,.2f}\".format)\n",
    "summary_table_sorted.head(10)"
   ]
  },
  {
   "cell_type": "markdown",
   "metadata": {},
   "source": [
    "## Most Popular Items"
   ]
  },
  {
   "cell_type": "markdown",
   "metadata": {},
   "source": [
    "* Retrieve the Item ID, Item Name, and Item Price columns\n",
    "\n",
    "\n",
    "* Group by Item ID and Item Name. Perform calculations to obtain purchase count, item price, and total purchase value\n",
    "\n",
    "\n",
    "* Create a summary data frame to hold the results\n",
    "\n",
    "\n",
    "* Sort the purchase count column in descending order\n",
    "\n",
    "\n",
    "* Optional: give the displayed data cleaner formatting\n",
    "\n",
    "\n",
    "* Display a preview of the summary data frame\n",
    "\n"
   ]
  },
  {
   "cell_type": "code",
   "execution_count": 485,
   "metadata": {},
   "outputs": [
    {
     "data": {
      "text/html": [
       "<div>\n",
       "<style scoped>\n",
       "    .dataframe tbody tr th:only-of-type {\n",
       "        vertical-align: middle;\n",
       "    }\n",
       "\n",
       "    .dataframe tbody tr th {\n",
       "        vertical-align: top;\n",
       "    }\n",
       "\n",
       "    .dataframe thead th {\n",
       "        text-align: right;\n",
       "    }\n",
       "</style>\n",
       "<table border=\"1\" class=\"dataframe\">\n",
       "  <thead>\n",
       "    <tr style=\"text-align: right;\">\n",
       "      <th></th>\n",
       "      <th></th>\n",
       "      <th></th>\n",
       "      <th>Purchase Count</th>\n",
       "      <th>Total Purchase Value</th>\n",
       "    </tr>\n",
       "    <tr>\n",
       "      <th>Item ID</th>\n",
       "      <th>Item Name</th>\n",
       "      <th>Price</th>\n",
       "      <th></th>\n",
       "      <th></th>\n",
       "    </tr>\n",
       "  </thead>\n",
       "  <tbody>\n",
       "    <tr>\n",
       "      <th>0</th>\n",
       "      <th>Splinter</th>\n",
       "      <th>1.28</th>\n",
       "      <td>4</td>\n",
       "      <td>$5.12</td>\n",
       "    </tr>\n",
       "    <tr>\n",
       "      <th>1</th>\n",
       "      <th>Crucifer</th>\n",
       "      <th>3.26</th>\n",
       "      <td>3</td>\n",
       "      <td>$9.78</td>\n",
       "    </tr>\n",
       "    <tr>\n",
       "      <th>2</th>\n",
       "      <th>Verdict</th>\n",
       "      <th>2.48</th>\n",
       "      <td>6</td>\n",
       "      <td>$14.88</td>\n",
       "    </tr>\n",
       "    <tr>\n",
       "      <th>3</th>\n",
       "      <th>Phantomlight</th>\n",
       "      <th>2.49</th>\n",
       "      <td>6</td>\n",
       "      <td>$14.94</td>\n",
       "    </tr>\n",
       "    <tr>\n",
       "      <th>4</th>\n",
       "      <th>Bloodlord's Fetish</th>\n",
       "      <th>1.70</th>\n",
       "      <td>5</td>\n",
       "      <td>$8.50</td>\n",
       "    </tr>\n",
       "  </tbody>\n",
       "</table>\n",
       "</div>"
      ],
      "text/plain": [
       "                                  Purchase Count Total Purchase Value\n",
       "Item ID Item Name          Price                                     \n",
       "0       Splinter           1.28                4                $5.12\n",
       "1       Crucifer           3.26                3                $9.78\n",
       "2       Verdict            2.48                6               $14.88\n",
       "3       Phantomlight       2.49                6               $14.94\n",
       "4       Bloodlord's Fetish 1.70                5                $8.50"
      ]
     },
     "execution_count": 485,
     "metadata": {},
     "output_type": "execute_result"
    }
   ],
   "source": [
    "#create new data set with only the fields requested\n",
    "popItems = purchases_df[['Item ID', \"Item Name\", \"Price\"]]\n",
    "\n",
    "#Group data by Item/Name/Price\n",
    "popItemsG = popItems.groupby([\"Item ID\",\"Item Name\",\"Price\"])\n",
    "\n",
    "#define variables for calculated values\n",
    "purchaseCount= popItemsG['Item Name'].count()\n",
    "TotalPurchaseValue= popItemsG['Price'].sum()\n",
    "\n",
    "#create new DF with new values, apply formatting and display data\n",
    "popItemsDF = pd.DataFrame({\"Purchase Count\": purchaseCount,\n",
    "                          \"Total Purchase Value\": TotalPurchaseValue})\n",
    "popItemsDF[\"Total Purchase Value\"] = popItemsDF[\"Total Purchase Value\"].map(\"${:.2f}\".format)\n",
    "popItemsDF.head()"
   ]
  },
  {
   "cell_type": "markdown",
   "metadata": {},
   "source": [
    "## Most Profitable Items"
   ]
  },
  {
   "cell_type": "markdown",
   "metadata": {},
   "source": [
    "* Sort the above table by total purchase value in descending order\n",
    "\n",
    "\n",
    "* Optional: give the displayed data cleaner formatting\n",
    "\n",
    "\n",
    "* Display a preview of the data frame\n",
    "\n"
   ]
  },
  {
   "cell_type": "code",
   "execution_count": 486,
   "metadata": {
    "scrolled": true
   },
   "outputs": [
    {
     "data": {
      "text/html": [
       "<div>\n",
       "<style scoped>\n",
       "    .dataframe tbody tr th:only-of-type {\n",
       "        vertical-align: middle;\n",
       "    }\n",
       "\n",
       "    .dataframe tbody tr th {\n",
       "        vertical-align: top;\n",
       "    }\n",
       "\n",
       "    .dataframe thead th {\n",
       "        text-align: right;\n",
       "    }\n",
       "</style>\n",
       "<table border=\"1\" class=\"dataframe\">\n",
       "  <thead>\n",
       "    <tr style=\"text-align: right;\">\n",
       "      <th></th>\n",
       "      <th></th>\n",
       "      <th></th>\n",
       "      <th>Purchase Count</th>\n",
       "      <th>Total Purchase Value</th>\n",
       "    </tr>\n",
       "    <tr>\n",
       "      <th>Item ID</th>\n",
       "      <th>Item Name</th>\n",
       "      <th>Price</th>\n",
       "      <th></th>\n",
       "      <th></th>\n",
       "    </tr>\n",
       "  </thead>\n",
       "  <tbody>\n",
       "    <tr>\n",
       "      <th>63</th>\n",
       "      <th>Stormfury Mace</th>\n",
       "      <th>4.99</th>\n",
       "      <td>2</td>\n",
       "      <td>$9.98</td>\n",
       "    </tr>\n",
       "    <tr>\n",
       "      <th>29</th>\n",
       "      <th>Chaos, Ender of the End</th>\n",
       "      <th>1.98</th>\n",
       "      <td>5</td>\n",
       "      <td>$9.90</td>\n",
       "    </tr>\n",
       "    <tr>\n",
       "      <th>173</th>\n",
       "      <th>Stormfury Longsword</th>\n",
       "      <th>4.93</th>\n",
       "      <td>2</td>\n",
       "      <td>$9.86</td>\n",
       "    </tr>\n",
       "    <tr>\n",
       "      <th>1</th>\n",
       "      <th>Crucifer</th>\n",
       "      <th>3.26</th>\n",
       "      <td>3</td>\n",
       "      <td>$9.78</td>\n",
       "    </tr>\n",
       "    <tr>\n",
       "      <th>38</th>\n",
       "      <th>The Void, Vengeance of Dark Magic</th>\n",
       "      <th>2.37</th>\n",
       "      <td>4</td>\n",
       "      <td>$9.48</td>\n",
       "    </tr>\n",
       "    <tr>\n",
       "      <th>143</th>\n",
       "      <th>Frenzied Scimitar</th>\n",
       "      <th>1.56</th>\n",
       "      <td>6</td>\n",
       "      <td>$9.36</td>\n",
       "    </tr>\n",
       "    <tr>\n",
       "      <th>7</th>\n",
       "      <th>Thorn, Satchel of Dark Souls</th>\n",
       "      <th>1.33</th>\n",
       "      <td>7</td>\n",
       "      <td>$9.31</td>\n",
       "    </tr>\n",
       "    <tr>\n",
       "      <th>18</th>\n",
       "      <th>Torchlight, Bond of Storms</th>\n",
       "      <th>4.65</th>\n",
       "      <td>2</td>\n",
       "      <td>$9.30</td>\n",
       "    </tr>\n",
       "    <tr>\n",
       "      <th>129</th>\n",
       "      <th>Fate, Vengeance of Eternal Justice</th>\n",
       "      <th>1.54</th>\n",
       "      <td>6</td>\n",
       "      <td>$9.24</td>\n",
       "    </tr>\n",
       "    <tr>\n",
       "      <th>166</th>\n",
       "      <th>Thirsty Iron Reaver</th>\n",
       "      <th>3.07</th>\n",
       "      <td>3</td>\n",
       "      <td>$9.21</td>\n",
       "    </tr>\n",
       "  </tbody>\n",
       "</table>\n",
       "</div>"
      ],
      "text/plain": [
       "                                                  Purchase Count  \\\n",
       "Item ID Item Name                          Price                   \n",
       "63      Stormfury Mace                     4.99                2   \n",
       "29      Chaos, Ender of the End            1.98                5   \n",
       "173     Stormfury Longsword                4.93                2   \n",
       "1       Crucifer                           3.26                3   \n",
       "38      The Void, Vengeance of Dark Magic  2.37                4   \n",
       "143     Frenzied Scimitar                  1.56                6   \n",
       "7       Thorn, Satchel of Dark Souls       1.33                7   \n",
       "18      Torchlight, Bond of Storms         4.65                2   \n",
       "129     Fate, Vengeance of Eternal Justice 1.54                6   \n",
       "166     Thirsty Iron Reaver                3.07                3   \n",
       "\n",
       "                                                 Total Purchase Value  \n",
       "Item ID Item Name                          Price                       \n",
       "63      Stormfury Mace                     4.99                 $9.98  \n",
       "29      Chaos, Ender of the End            1.98                 $9.90  \n",
       "173     Stormfury Longsword                4.93                 $9.86  \n",
       "1       Crucifer                           3.26                 $9.78  \n",
       "38      The Void, Vengeance of Dark Magic  2.37                 $9.48  \n",
       "143     Frenzied Scimitar                  1.56                 $9.36  \n",
       "7       Thorn, Satchel of Dark Souls       1.33                 $9.31  \n",
       "18      Torchlight, Bond of Storms         4.65                 $9.30  \n",
       "129     Fate, Vengeance of Eternal Justice 1.54                 $9.24  \n",
       "166     Thirsty Iron Reaver                3.07                 $9.21  "
      ]
     },
     "execution_count": 486,
     "metadata": {},
     "output_type": "execute_result"
    }
   ],
   "source": [
    "# use above table, apply sort, display new DF\n",
    "popItems_sorted=popItemsDF.sort_values(\"Total Purchase Value\",ascending=False)\n",
    "popItems_sortedDF = pd.DataFrame(popItems_sorted)\n",
    "popItems_sortedDF.head(10)\n"
   ]
  },
  {
   "cell_type": "code",
   "execution_count": null,
   "metadata": {},
   "outputs": [],
   "source": [
    "#The data provided supports the game Heroes of Pymoli is attracts gamers of all\n",
    "#ages but you most likely to run in to a male between the ages of 20-24.\n",
    "#While it seems that all ages purchase weapon upgrades it does appear that those\n",
    "#under 10 and over 30 spend a bit more money per capita.\n",
    "#Perhaps the under 10 job market is thriving because they purchase the most expensive weapons."
   ]
  },
  {
   "cell_type": "code",
   "execution_count": null,
   "metadata": {},
   "outputs": [],
   "source": []
  }
 ],
 "metadata": {
  "anaconda-cloud": {},
  "kernel_info": {
   "name": "python3"
  },
  "kernelspec": {
   "display_name": "Python 3",
   "language": "python",
   "name": "python3"
  },
  "language_info": {
   "codemirror_mode": {
    "name": "ipython",
    "version": 3
   },
   "file_extension": ".py",
   "mimetype": "text/x-python",
   "name": "python",
   "nbconvert_exporter": "python",
   "pygments_lexer": "ipython3",
   "version": "3.6.4"
  },
  "latex_envs": {
   "LaTeX_envs_menu_present": true,
   "autoclose": false,
   "autocomplete": true,
   "bibliofile": "biblio.bib",
   "cite_by": "apalike",
   "current_citInitial": 1,
   "eqLabelWithNumbers": true,
   "eqNumInitial": 1,
   "hotkeys": {
    "equation": "Ctrl-E",
    "itemize": "Ctrl-I"
   },
   "labels_anchors": false,
   "latex_user_defs": false,
   "report_style_numbering": false,
   "user_envs_cfg": false
  },
  "nteract": {
   "version": "0.2.0"
  }
 },
 "nbformat": 4,
 "nbformat_minor": 2
}
